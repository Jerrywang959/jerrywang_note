{
  "cells": [
    {
      "cell_type": "markdown",
      "source": [
        "# 加载和浏览数据集"
      ],
      "metadata": {
        "nteract": {
          "transient": {
            "deleting": false
          }
        }
      }
    },
    {
      "cell_type": "code",
      "source": [
        "quality = read.csv(\"Diabetes.csv\")\n",
        "str(quality)"
      ],
      "outputs": [
        {
          "output_type": "stream",
          "name": "stdout",
          "text": [
            "'data.frame':\t131 obs. of  14 variables:\n",
            " $ MemberID            : int  1 2 3 4 5 6 7 8 9 10 ...\n",
            " $ InpatientDays       : int  0 1 0 0 8 2 16 2 2 4 ...\n",
            " $ ERVisits            : int  0 1 0 1 2 0 1 0 1 2 ...\n",
            " $ OfficeVisits        : int  18 6 5 19 19 9 8 8 4 0 ...\n",
            " $ Narcotics           : int  1 1 3 0 3 2 1 0 3 2 ...\n",
            " $ DaysSinceLastERVisit: num  731 411 731 158 449 ...\n",
            " $ Pain                : int  10 0 10 34 10 6 4 5 5 2 ...\n",
            " $ TotalVisits         : int  18 8 5 20 29 11 25 10 7 6 ...\n",
            " $ ProviderCount       : int  21 27 16 14 24 40 19 11 28 21 ...\n",
            " $ MedicalClaims       : int  93 19 27 59 51 53 40 28 20 17 ...\n",
            " $ ClaimLines          : int  222 115 148 242 204 156 261 87 98 66 ...\n",
            " $ StartedOnCombination: logi  FALSE FALSE FALSE FALSE FALSE FALSE ...\n",
            " $ AcuteDrugGapSmall   : int  0 1 5 0 0 4 0 0 0 0 ...\n",
            " $ PoorCare            : int  0 0 0 0 0 1 0 0 1 0 ...\n"
          ]
        }
      ],
      "execution_count": 1,
      "metadata": {
        "collapsed": true,
        "outputExpanded": false,
        "jupyter": {
          "source_hidden": false,
          "outputs_hidden": false
        },
        "nteract": {
          "transient": {
            "deleting": false
          }
        },
        "execution": {
          "iopub.status.busy": "2020-05-04T13:55:13.238Z",
          "iopub.execute_input": "2020-05-04T13:55:13.246Z",
          "iopub.status.idle": "2020-05-04T13:55:13.322Z",
          "shell.execute_reply": "2020-05-04T13:55:13.343Z"
        }
      }
    },
    {
      "cell_type": "markdown",
      "source": [
        "MemberID是从1到131 对患者进行编号的唯一标识符。   \n",
        "InpatientDays是住院次数或患者在医院度过的天数。   \n",
        "ERVisits是患者访问急诊室的次数。   \n",
        "OfficeVisits是患者拜访任何医生办公室的次数。   \n",
        "Narcotics是患者对麻醉剂开出的处方数量。   \n",
        "DaysSinceLastERVisit是患者上次急诊室（ER）到研究期结束之间的天数，如果患者从未去过ER，则将其设置为研究期的长度。   \n",
        "Pain是患者抱怨疼痛的就诊次数。     \n",
        "TotalVisits是患者拜访任何医疗保健提供者的总次数。      \n",
        "ProviderCount是为患者提供服务的提供者的数量。    \n",
        "MedicalClaims是患者提出医疗要求的天数。   \n",
        "ClaimLines是医疗索赔的总数。   \n",
        "StartedOnCombination是患者是否开始使用药物组合治疗糖尿病。   \n",
        "AcuteDrugGapSmall是处方用完后迅速补充的急性药物的一部分。   \n",
        "PoorCare是因变量，如果患者护理不佳，则等于1，如果患者护理得好，则等于0。   "
      ],
      "metadata": {
        "nteract": {
          "transient": {
            "deleting": false
          }
        }
      }
    },
    {
      "cell_type": "markdown",
      "source": [
        "通过使用`table()`，我们可以看到有多少患者接受了较差的护理，有多少患者获得了良好的护理。"
      ],
      "metadata": {
        "nteract": {
          "transient": {
            "deleting": false
          }
        }
      }
    },
    {
      "cell_type": "code",
      "source": [
        "table(quality$PoorCare)"
      ],
      "outputs": [
        {
          "output_type": "display_data",
          "data": {
            "text/plain": [
              "\n",
              " 0  1 \n",
              "98 33 "
            ]
          },
          "metadata": {}
        }
      ],
      "execution_count": 2,
      "metadata": {
        "collapsed": true,
        "outputExpanded": false,
        "jupyter": {
          "source_hidden": false,
          "outputs_hidden": false
        },
        "nteract": {
          "transient": {
            "deleting": false
          }
        },
        "execution": {
          "iopub.status.busy": "2020-05-04T13:56:58.120Z",
          "iopub.execute_input": "2020-05-04T13:56:58.127Z",
          "iopub.status.idle": "2020-05-04T13:56:58.147Z",
          "shell.execute_reply": "2020-05-04T13:56:58.164Z"
        }
      }
    },
    {
      "cell_type": "markdown",
      "source": [
        "护理不佳的患者百分比可以如下计算。"
      ],
      "metadata": {
        "nteract": {
          "transient": {
            "deleting": false
          }
        }
      }
    },
    {
      "cell_type": "code",
      "source": [
        "percPC = sum(quality$PoorCare)/nrow(quality)\n",
        "percPC"
      ],
      "outputs": [
        {
          "output_type": "display_data",
          "data": {
            "text/html": [
              "0.251908396946565"
            ],
            "text/markdown": [
              "0.251908396946565"
            ],
            "text/latex": [
              "0.251908396946565"
            ],
            "text/plain": [
              "[1] 0.2519084"
            ]
          },
          "metadata": {}
        }
      ],
      "execution_count": 3,
      "metadata": {
        "collapsed": true,
        "outputExpanded": false,
        "jupyter": {
          "source_hidden": false,
          "outputs_hidden": false
        },
        "nteract": {
          "transient": {
            "deleting": false
          }
        },
        "execution": {
          "iopub.status.busy": "2020-05-04T13:57:29.832Z",
          "iopub.execute_input": "2020-05-04T13:57:29.837Z",
          "iopub.status.idle": "2020-05-04T13:57:29.854Z",
          "shell.execute_reply": "2020-05-04T13:57:29.864Z"
        }
      }
    },
    {
      "cell_type": "code",
      "source": [
        "summary(quality$PoorCare)"
      ],
      "outputs": [
        {
          "output_type": "display_data",
          "data": {
            "text/plain": [
              "   Min. 1st Qu.  Median    Mean 3rd Qu.    Max. \n",
              " 0.0000  0.0000  0.0000  0.2519  0.5000  1.0000 "
            ]
          },
          "metadata": {}
        }
      ],
      "execution_count": 4,
      "metadata": {
        "collapsed": true,
        "outputExpanded": false,
        "jupyter": {
          "source_hidden": false,
          "outputs_hidden": false
        },
        "nteract": {
          "transient": {
            "deleting": false
          }
        },
        "execution": {
          "iopub.status.busy": "2020-05-04T13:58:09.530Z",
          "iopub.execute_input": "2020-05-04T13:58:09.544Z",
          "iopub.status.idle": "2020-05-04T13:58:09.577Z",
          "shell.execute_reply": "2020-05-04T13:58:09.589Z"
        }
      }
    },
    {
      "cell_type": "markdown",
      "source": [
        "数据中`PoorCare`是数值变量，但是从实际问题出发，我们应该将其转化为类别变量"
      ],
      "metadata": {
        "nteract": {
          "transient": {
            "deleting": false
          }
        }
      }
    },
    {
      "cell_type": "code",
      "source": [
        "quality$PoorCare = as.factor(quality$PoorCare)\n",
        "str(quality)"
      ],
      "outputs": [
        {
          "output_type": "stream",
          "name": "stdout",
          "text": [
            "'data.frame':\t131 obs. of  14 variables:\n",
            " $ MemberID            : int  1 2 3 4 5 6 7 8 9 10 ...\n",
            " $ InpatientDays       : int  0 1 0 0 8 2 16 2 2 4 ...\n",
            " $ ERVisits            : int  0 1 0 1 2 0 1 0 1 2 ...\n",
            " $ OfficeVisits        : int  18 6 5 19 19 9 8 8 4 0 ...\n",
            " $ Narcotics           : int  1 1 3 0 3 2 1 0 3 2 ...\n",
            " $ DaysSinceLastERVisit: num  731 411 731 158 449 ...\n",
            " $ Pain                : int  10 0 10 34 10 6 4 5 5 2 ...\n",
            " $ TotalVisits         : int  18 8 5 20 29 11 25 10 7 6 ...\n",
            " $ ProviderCount       : int  21 27 16 14 24 40 19 11 28 21 ...\n",
            " $ MedicalClaims       : int  93 19 27 59 51 53 40 28 20 17 ...\n",
            " $ ClaimLines          : int  222 115 148 242 204 156 261 87 98 66 ...\n",
            " $ StartedOnCombination: logi  FALSE FALSE FALSE FALSE FALSE FALSE ...\n",
            " $ AcuteDrugGapSmall   : int  0 1 5 0 0 4 0 0 0 0 ...\n",
            " $ PoorCare            : Factor w/ 2 levels \"0\",\"1\": 1 1 1 1 1 2 1 1 2 1 ...\n"
          ]
        }
      ],
      "execution_count": 5,
      "metadata": {
        "collapsed": true,
        "outputExpanded": false,
        "jupyter": {
          "source_hidden": false,
          "outputs_hidden": false
        },
        "nteract": {
          "transient": {
            "deleting": false
          }
        },
        "execution": {
          "iopub.status.busy": "2020-05-04T13:59:53.474Z",
          "iopub.execute_input": "2020-05-04T13:59:53.494Z",
          "iopub.status.idle": "2020-05-04T13:59:53.514Z",
          "shell.execute_reply": "2020-05-04T13:59:53.522Z"
        }
      }
    },
    {
      "cell_type": "markdown",
      "source": [
        "# 分割数据集以进行训练和测试\n",
        "通常，我们有训练集和测试集，然而在现实情况下，我们只有一个数据集。因此我们将用到`caTools`这一库，以完成随机的训练集和测试集的分配"
      ],
      "metadata": {
        "nteract": {
          "transient": {
            "deleting": false
          }
        }
      }
    },
    {
      "cell_type": "code",
      "source": [
        "library(caTools)"
      ],
      "outputs": [],
      "execution_count": 6,
      "metadata": {
        "collapsed": true,
        "outputExpanded": false,
        "jupyter": {
          "source_hidden": false,
          "outputs_hidden": false
        },
        "nteract": {
          "transient": {
            "deleting": false
          }
        },
        "execution": {
          "iopub.status.busy": "2020-05-04T14:01:02.177Z",
          "iopub.execute_input": "2020-05-04T14:01:02.185Z",
          "iopub.status.idle": "2020-05-04T14:01:02.194Z",
          "shell.execute_reply": "2020-05-04T14:01:02.201Z"
        }
      }
    },
    {
      "cell_type": "markdown",
      "source": [
        "设置`seed`以便于每次每次生成的是相同的随机数，这样有助于检验结果"
      ],
      "metadata": {
        "nteract": {
          "transient": {
            "deleting": false
          }
        }
      }
    },
    {
      "cell_type": "code",
      "source": [
        "set.seed(123)\n",
        "split = sample.split(quality$PoorCare, SplitRatio = 0.70)\n",
        "split"
      ],
      "outputs": [
        {
          "output_type": "display_data",
          "data": {
            "text/html": [
              "<style>\n",
              ".list-inline {list-style: none; margin:0; padding: 0}\n",
              ".list-inline>li {display: inline-block}\n",
              ".list-inline>li:not(:last-child)::after {content: \"\\00b7\"; padding: 0 .5ex}\n",
              "</style>\n",
              "<ol class=list-inline><li>TRUE</li><li>FALSE</li><li>TRUE</li><li>FALSE</li><li>FALSE</li><li>TRUE</li><li>TRUE</li><li>TRUE</li><li>TRUE</li><li>FALSE</li><li>TRUE</li><li>TRUE</li><li>FALSE</li><li>TRUE</li><li>TRUE</li><li>TRUE</li><li>TRUE</li><li>TRUE</li><li>FALSE</li><li>TRUE</li><li>TRUE</li><li>TRUE</li><li>TRUE</li><li>TRUE</li><li>FALSE</li><li>FALSE</li><li>TRUE</li><li>FALSE</li><li>TRUE</li><li>FALSE</li><li>TRUE</li><li>FALSE</li><li>TRUE</li><li>FALSE</li><li>FALSE</li><li>TRUE</li><li>TRUE</li><li>TRUE</li><li>TRUE</li><li>FALSE</li><li>TRUE</li><li>FALSE</li><li>TRUE</li><li>FALSE</li><li>TRUE</li><li>TRUE</li><li>TRUE</li><li>FALSE</li><li>TRUE</li><li>FALSE</li><li>TRUE</li><li>TRUE</li><li>TRUE</li><li>TRUE</li><li>TRUE</li><li>TRUE</li><li>TRUE</li><li>TRUE</li><li>TRUE</li><li>TRUE</li><li>TRUE</li><li>FALSE</li><li>TRUE</li><li>FALSE</li><li>TRUE</li><li>TRUE</li><li>FALSE</li><li>TRUE</li><li>TRUE</li><li>FALSE</li><li>TRUE</li><li>TRUE</li><li>TRUE</li><li>TRUE</li><li>FALSE</li><li>FALSE</li><li>TRUE</li><li>TRUE</li><li>TRUE</li><li>TRUE</li><li>TRUE</li><li>FALSE</li><li>TRUE</li><li>TRUE</li><li>FALSE</li><li>TRUE</li><li>FALSE</li><li>FALSE</li><li>FALSE</li><li>TRUE</li><li>FALSE</li><li>TRUE</li><li>FALSE</li><li>TRUE</li><li>TRUE</li><li>TRUE</li><li>TRUE</li><li>TRUE</li><li>TRUE</li><li>TRUE</li><li>TRUE</li><li>TRUE</li><li>FALSE</li><li>TRUE</li><li>TRUE</li><li>TRUE</li><li>TRUE</li><li>TRUE</li><li>TRUE</li><li>FALSE</li><li>TRUE</li><li>TRUE</li><li>FALSE</li><li>TRUE</li><li>TRUE</li><li>TRUE</li><li>TRUE</li><li>FALSE</li><li>FALSE</li><li>FALSE</li><li>TRUE</li><li>TRUE</li><li>TRUE</li><li>TRUE</li><li>FALSE</li><li>TRUE</li><li>TRUE</li><li>TRUE</li><li>FALSE</li><li>TRUE</li><li>TRUE</li></ol>\n"
            ],
            "text/markdown": [
              "1. TRUE\n",
              "2. FALSE\n",
              "3. TRUE\n",
              "4. FALSE\n",
              "5. FALSE\n",
              "6. TRUE\n",
              "7. TRUE\n",
              "8. TRUE\n",
              "9. TRUE\n",
              "10. FALSE\n",
              "11. TRUE\n",
              "12. TRUE\n",
              "13. FALSE\n",
              "14. TRUE\n",
              "15. TRUE\n",
              "16. TRUE\n",
              "17. TRUE\n",
              "18. TRUE\n",
              "19. FALSE\n",
              "20. TRUE\n",
              "21. TRUE\n",
              "22. TRUE\n",
              "23. TRUE\n",
              "24. TRUE\n",
              "25. FALSE\n",
              "26. FALSE\n",
              "27. TRUE\n",
              "28. FALSE\n",
              "29. TRUE\n",
              "30. FALSE\n",
              "31. TRUE\n",
              "32. FALSE\n",
              "33. TRUE\n",
              "34. FALSE\n",
              "35. FALSE\n",
              "36. TRUE\n",
              "37. TRUE\n",
              "38. TRUE\n",
              "39. TRUE\n",
              "40. FALSE\n",
              "41. TRUE\n",
              "42. FALSE\n",
              "43. TRUE\n",
              "44. FALSE\n",
              "45. TRUE\n",
              "46. TRUE\n",
              "47. TRUE\n",
              "48. FALSE\n",
              "49. TRUE\n",
              "50. FALSE\n",
              "51. TRUE\n",
              "52. TRUE\n",
              "53. TRUE\n",
              "54. TRUE\n",
              "55. TRUE\n",
              "56. TRUE\n",
              "57. TRUE\n",
              "58. TRUE\n",
              "59. TRUE\n",
              "60. TRUE\n",
              "61. TRUE\n",
              "62. FALSE\n",
              "63. TRUE\n",
              "64. FALSE\n",
              "65. TRUE\n",
              "66. TRUE\n",
              "67. FALSE\n",
              "68. TRUE\n",
              "69. TRUE\n",
              "70. FALSE\n",
              "71. TRUE\n",
              "72. TRUE\n",
              "73. TRUE\n",
              "74. TRUE\n",
              "75. FALSE\n",
              "76. FALSE\n",
              "77. TRUE\n",
              "78. TRUE\n",
              "79. TRUE\n",
              "80. TRUE\n",
              "81. TRUE\n",
              "82. FALSE\n",
              "83. TRUE\n",
              "84. TRUE\n",
              "85. FALSE\n",
              "86. TRUE\n",
              "87. FALSE\n",
              "88. FALSE\n",
              "89. FALSE\n",
              "90. TRUE\n",
              "91. FALSE\n",
              "92. TRUE\n",
              "93. FALSE\n",
              "94. TRUE\n",
              "95. TRUE\n",
              "96. TRUE\n",
              "97. TRUE\n",
              "98. TRUE\n",
              "99. TRUE\n",
              "100. TRUE\n",
              "101. TRUE\n",
              "102. TRUE\n",
              "103. FALSE\n",
              "104. TRUE\n",
              "105. TRUE\n",
              "106. TRUE\n",
              "107. TRUE\n",
              "108. TRUE\n",
              "109. TRUE\n",
              "110. FALSE\n",
              "111. TRUE\n",
              "112. TRUE\n",
              "113. FALSE\n",
              "114. TRUE\n",
              "115. TRUE\n",
              "116. TRUE\n",
              "117. TRUE\n",
              "118. FALSE\n",
              "119. FALSE\n",
              "120. FALSE\n",
              "121. TRUE\n",
              "122. TRUE\n",
              "123. TRUE\n",
              "124. TRUE\n",
              "125. FALSE\n",
              "126. TRUE\n",
              "127. TRUE\n",
              "128. TRUE\n",
              "129. FALSE\n",
              "130. TRUE\n",
              "131. TRUE\n",
              "\n",
              "\n"
            ],
            "text/latex": [
              "\\begin{enumerate*}\n",
              "\\item TRUE\n",
              "\\item FALSE\n",
              "\\item TRUE\n",
              "\\item FALSE\n",
              "\\item FALSE\n",
              "\\item TRUE\n",
              "\\item TRUE\n",
              "\\item TRUE\n",
              "\\item TRUE\n",
              "\\item FALSE\n",
              "\\item TRUE\n",
              "\\item TRUE\n",
              "\\item FALSE\n",
              "\\item TRUE\n",
              "\\item TRUE\n",
              "\\item TRUE\n",
              "\\item TRUE\n",
              "\\item TRUE\n",
              "\\item FALSE\n",
              "\\item TRUE\n",
              "\\item TRUE\n",
              "\\item TRUE\n",
              "\\item TRUE\n",
              "\\item TRUE\n",
              "\\item FALSE\n",
              "\\item FALSE\n",
              "\\item TRUE\n",
              "\\item FALSE\n",
              "\\item TRUE\n",
              "\\item FALSE\n",
              "\\item TRUE\n",
              "\\item FALSE\n",
              "\\item TRUE\n",
              "\\item FALSE\n",
              "\\item FALSE\n",
              "\\item TRUE\n",
              "\\item TRUE\n",
              "\\item TRUE\n",
              "\\item TRUE\n",
              "\\item FALSE\n",
              "\\item TRUE\n",
              "\\item FALSE\n",
              "\\item TRUE\n",
              "\\item FALSE\n",
              "\\item TRUE\n",
              "\\item TRUE\n",
              "\\item TRUE\n",
              "\\item FALSE\n",
              "\\item TRUE\n",
              "\\item FALSE\n",
              "\\item TRUE\n",
              "\\item TRUE\n",
              "\\item TRUE\n",
              "\\item TRUE\n",
              "\\item TRUE\n",
              "\\item TRUE\n",
              "\\item TRUE\n",
              "\\item TRUE\n",
              "\\item TRUE\n",
              "\\item TRUE\n",
              "\\item TRUE\n",
              "\\item FALSE\n",
              "\\item TRUE\n",
              "\\item FALSE\n",
              "\\item TRUE\n",
              "\\item TRUE\n",
              "\\item FALSE\n",
              "\\item TRUE\n",
              "\\item TRUE\n",
              "\\item FALSE\n",
              "\\item TRUE\n",
              "\\item TRUE\n",
              "\\item TRUE\n",
              "\\item TRUE\n",
              "\\item FALSE\n",
              "\\item FALSE\n",
              "\\item TRUE\n",
              "\\item TRUE\n",
              "\\item TRUE\n",
              "\\item TRUE\n",
              "\\item TRUE\n",
              "\\item FALSE\n",
              "\\item TRUE\n",
              "\\item TRUE\n",
              "\\item FALSE\n",
              "\\item TRUE\n",
              "\\item FALSE\n",
              "\\item FALSE\n",
              "\\item FALSE\n",
              "\\item TRUE\n",
              "\\item FALSE\n",
              "\\item TRUE\n",
              "\\item FALSE\n",
              "\\item TRUE\n",
              "\\item TRUE\n",
              "\\item TRUE\n",
              "\\item TRUE\n",
              "\\item TRUE\n",
              "\\item TRUE\n",
              "\\item TRUE\n",
              "\\item TRUE\n",
              "\\item TRUE\n",
              "\\item FALSE\n",
              "\\item TRUE\n",
              "\\item TRUE\n",
              "\\item TRUE\n",
              "\\item TRUE\n",
              "\\item TRUE\n",
              "\\item TRUE\n",
              "\\item FALSE\n",
              "\\item TRUE\n",
              "\\item TRUE\n",
              "\\item FALSE\n",
              "\\item TRUE\n",
              "\\item TRUE\n",
              "\\item TRUE\n",
              "\\item TRUE\n",
              "\\item FALSE\n",
              "\\item FALSE\n",
              "\\item FALSE\n",
              "\\item TRUE\n",
              "\\item TRUE\n",
              "\\item TRUE\n",
              "\\item TRUE\n",
              "\\item FALSE\n",
              "\\item TRUE\n",
              "\\item TRUE\n",
              "\\item TRUE\n",
              "\\item FALSE\n",
              "\\item TRUE\n",
              "\\item TRUE\n",
              "\\end{enumerate*}\n"
            ],
            "text/plain": [
              "  [1]  TRUE FALSE  TRUE FALSE FALSE  TRUE  TRUE  TRUE  TRUE FALSE  TRUE  TRUE\n",
              " [13] FALSE  TRUE  TRUE  TRUE  TRUE  TRUE FALSE  TRUE  TRUE  TRUE  TRUE  TRUE\n",
              " [25] FALSE FALSE  TRUE FALSE  TRUE FALSE  TRUE FALSE  TRUE FALSE FALSE  TRUE\n",
              " [37]  TRUE  TRUE  TRUE FALSE  TRUE FALSE  TRUE FALSE  TRUE  TRUE  TRUE FALSE\n",
              " [49]  TRUE FALSE  TRUE  TRUE  TRUE  TRUE  TRUE  TRUE  TRUE  TRUE  TRUE  TRUE\n",
              " [61]  TRUE FALSE  TRUE FALSE  TRUE  TRUE FALSE  TRUE  TRUE FALSE  TRUE  TRUE\n",
              " [73]  TRUE  TRUE FALSE FALSE  TRUE  TRUE  TRUE  TRUE  TRUE FALSE  TRUE  TRUE\n",
              " [85] FALSE  TRUE FALSE FALSE FALSE  TRUE FALSE  TRUE FALSE  TRUE  TRUE  TRUE\n",
              " [97]  TRUE  TRUE  TRUE  TRUE  TRUE  TRUE FALSE  TRUE  TRUE  TRUE  TRUE  TRUE\n",
              "[109]  TRUE FALSE  TRUE  TRUE FALSE  TRUE  TRUE  TRUE  TRUE FALSE FALSE FALSE\n",
              "[121]  TRUE  TRUE  TRUE  TRUE FALSE  TRUE  TRUE  TRUE FALSE  TRUE  TRUE"
            ]
          },
          "metadata": {}
        }
      ],
      "execution_count": 7,
      "metadata": {
        "collapsed": true,
        "outputExpanded": false,
        "jupyter": {
          "source_hidden": false,
          "outputs_hidden": false
        },
        "nteract": {
          "transient": {
            "deleting": false
          }
        },
        "execution": {
          "iopub.status.busy": "2020-05-04T14:06:18.241Z",
          "iopub.execute_input": "2020-05-04T14:06:18.250Z",
          "iopub.status.idle": "2020-05-04T14:06:18.266Z",
          "shell.execute_reply": "2020-05-04T14:06:18.272Z"
        }
      }
    },
    {
      "cell_type": "markdown",
      "source": [
        "`sample.split()`函数中的第一个参数确保训练集和测试集合`PoorCare`的比例是相同的"
      ],
      "metadata": {
        "nteract": {
          "transient": {
            "deleting": false
          }
        }
      }
    },
    {
      "cell_type": "code",
      "source": [],
      "outputs": [],
      "execution_count": null,
      "metadata": {
        "collapsed": true,
        "outputExpanded": false,
        "jupyter": {
          "source_hidden": false,
          "outputs_hidden": false
        },
        "nteract": {
          "transient": {
            "deleting": false
          }
        }
      }
    }
  ],
  "metadata": {
    "kernel_info": {
      "name": "julia-1.4"
    },
    "language_info": {
      "name": "R",
      "codemirror_mode": "r",
      "pygments_lexer": "r",
      "mimetype": "text/x-r-source",
      "file_extension": ".r",
      "version": "3.6.3"
    },
    "kernelspec": {
      "argv": [
        "/opt/more/julia-1.4.1/bin/julia",
        "-i",
        "--startup-file=yes",
        "--color=yes",
        "--project=@.",
        "/home/jerrywang/.julia/packages/IJulia/DrVMH/src/kernel.jl",
        "{connection_file}"
      ],
      "display_name": "Julia 1.4.1",
      "env": {},
      "interrupt_mode": "signal",
      "language": "julia",
      "name": "julia-1.4"
    },
    "nteract": {
      "version": "0.23.1"
    }
  },
  "nbformat": 4,
  "nbformat_minor": 0
}